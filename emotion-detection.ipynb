{
 "cells": [
  {
   "cell_type": "code",
   "execution_count": 7,
   "id": "6f7bf408-5234-4752-a446-1e2a24880bd5",
   "metadata": {},
   "outputs": [],
   "source": [
    "import pandas as pd\n",
    "\n",
    "splits = {'train': 'data/train-00000-of-00001.parquet', 'validation': 'data/validation-00000-of-00001.parquet', 'test': 'data/test-00000-of-00001.parquet'}\n",
    "df_train = pd.read_parquet(\"hf://datasets/cirimus/super-emotion/\" + splits[\"train\"])\n",
    "df_test = pd.read_parquet(\"hf://datasets/cirimus/super-emotion/\" + splits[\"test\"])"
   ]
  },
  {
   "cell_type": "code",
   "execution_count": 8,
   "id": "e8703c28-6305-41a8-83d1-72c29ffca756",
   "metadata": {},
   "outputs": [],
   "source": [
    "import neattext.functions as nfx\n",
    "\n",
    "def preprocess_text(text):\n",
    "    text = nfx.remove_stopwords(text)  # Remove common words like 'is', 'the', etc.\n",
    "    text = nfx.remove_special_characters(text)  # Remove punctuation\n",
    "    return text"
   ]
  },
  {
   "cell_type": "code",
   "execution_count": 18,
   "id": "58382269-8832-4c9a-88d5-6f6cc3f22442",
   "metadata": {},
   "outputs": [],
   "source": [
    "from sklearn.linear_model import LogisticRegression\n",
    "from sklearn.pipeline import Pipeline\n",
    "from sklearn.feature_extraction.text import TfidfVectorizer\n",
    "\n",
    "X_train, y_train = [preprocess_text(text) for text in df_train[\"text\"]], df_train[\"label\"]\n",
    "X_test, y_test = [preprocess_text(text) for text in df_test[\"text\"]], df_test[\"label\"]\n",
    "\n",
    "emotion_model = Pipeline([\n",
    "    (\"tfidf\", TfidfVectorizer()),\n",
    "    (\"clf\", LogisticRegression(solver=\"liblinear\"))\n",
    "])\n",
    "\n",
    "# Train the Model\n",
    "emotion_model.fit(X_train, y_train)\n",
    "\n",
    "def label_to_emotion(label):\n",
    "    return [\"neutral\", \"surprise\", \"fear\", \"sadness\", \"joy\", \"anger\", \"love\"][label]\n",
    "\n",
    "def predict_emotion(text):\n",
    "    processed_text = preprocess_text(text)\n",
    "    emotion = label_to_emotion(emotion_model.predict([processed_text])[0])\n",
    "    return emotion\n"
   ]
  },
  {
   "cell_type": "code",
   "execution_count": 19,
   "id": "22d68c1f-26b0-4455-9d42-a789d5d36687",
   "metadata": {},
   "outputs": [
    {
     "data": {
      "text/plain": [
       "0.8041555673947789"
      ]
     },
     "execution_count": 19,
     "metadata": {},
     "output_type": "execute_result"
    }
   ],
   "source": [
    "from sklearn.metrics import accuracy_score\n",
    "\n",
    "accuracy_score(df_test[\"label\"], emotion_model.predict(X_test))"
   ]
  },
  {
   "cell_type": "code",
   "execution_count": 20,
   "id": "d705cdb6-dc9d-4348-ac94-cc8e2710c0c4",
   "metadata": {},
   "outputs": [
    {
     "data": {
      "text/plain": [
       "'neutral'"
      ]
     },
     "execution_count": 20,
     "metadata": {},
     "output_type": "execute_result"
    }
   ],
   "source": [
    "predict_emotion(\"my name is xyz\")"
   ]
  }
 ],
 "metadata": {
  "kernelspec": {
   "display_name": "Python 3 (ipykernel)",
   "language": "python",
   "name": "python3"
  },
  "language_info": {
   "codemirror_mode": {
    "name": "ipython",
    "version": 3
   },
   "file_extension": ".py",
   "mimetype": "text/x-python",
   "name": "python",
   "nbconvert_exporter": "python",
   "pygments_lexer": "ipython3",
   "version": "3.13.2"
  }
 },
 "nbformat": 4,
 "nbformat_minor": 5
}
